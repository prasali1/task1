{
 "cells": [
  {
   "cell_type": "markdown",
   "metadata": {},
   "source": [
    "# Task 1: Get Started with Data Science and Python Notebook"
   ]
  },
  {
   "cell_type": "markdown",
   "metadata": {},
   "source": [
    "## Import Libraries"
   ]
  },
  {
   "cell_type": "code",
   "execution_count": 19,
   "metadata": {},
   "outputs": [],
   "source": [
    "import pandas as pd\n",
    "import math as mt\n",
    "from numpy import random\n",
    "from scipy import stats\n",
    "import numpy as np"
   ]
  },
  {
   "cell_type": "markdown",
   "metadata": {},
   "source": [
    "## Import test CSV with Pandas "
   ]
  },
  {
   "cell_type": "code",
   "execution_count": 14,
   "metadata": {},
   "outputs": [
    {
     "name": "stdout",
     "output_type": "stream",
     "text": [
      "      in.store  age  items   amount  region\n",
      "0            0   60      8  2103.80       3\n",
      "1            1   58      4   968.38       3\n",
      "2            0   51      7   143.59       2\n",
      "3            1   40      7   863.82       3\n",
      "4            0   41      4   915.21       1\n",
      "...        ...  ...    ...      ...     ...\n",
      "9995         0   57      4  1832.90       4\n",
      "9996         1   33      5   171.69       4\n",
      "9997         0   20      3   398.67       4\n",
      "9998         0   71      6   426.14       2\n",
      "9999         1   25      2  1437.60       1\n",
      "\n",
      "[10000 rows x 5 columns]\n",
      "      age\n",
      "0      60\n",
      "1      58\n",
      "2      51\n",
      "3      40\n",
      "4      41\n",
      "...   ...\n",
      "9995   57\n",
      "9996   33\n",
      "9997   20\n",
      "9998   71\n",
      "9999   25\n",
      "\n",
      "[10000 rows x 1 columns]\n"
     ]
    }
   ],
   "source": [
    "testcsv1 = pd.io.parsers.read_csv(\"Blackwell_Hist_Sample_csv_import.csv\")\n",
    "testage = testcsv1[['age']]\n",
    "print(testcsv1)\n",
    "print(testage)"
   ]
  },
  {
   "cell_type": "markdown",
   "metadata": {},
   "source": [
    "## Explore test csv"
   ]
  },
  {
   "cell_type": "code",
   "execution_count": 23,
   "metadata": {},
   "outputs": [
    {
     "data": {
      "text/plain": [
       "age    45.9565\n",
       "dtype: float64"
      ]
     },
     "execution_count": 23,
     "metadata": {},
     "output_type": "execute_result"
    }
   ],
   "source": [
    "np.mean(testcsv1[['age']])"
   ]
  },
  {
   "cell_type": "code",
   "execution_count": 21,
   "metadata": {},
   "outputs": [
    {
     "data": {
      "text/plain": [
       "DescribeResult(nobs=10000, minmax=(array([ 0.  , 18.  ,  1.  ,  5.23,  1.  ]), array([1.0000e+00, 8.5000e+01, 8.0000e+00, 2.9992e+03, 4.0000e+00])), mean=array([4.55500000e-01, 4.59565000e+01, 4.50390000e+00, 8.35000181e+02,\n",
       "       2.65970000e+00]), variance=array([2.48044554e-01, 2.52881896e+02, 4.26881167e+00, 5.22872167e+05,\n",
       "       1.27442335e+00]), skewness=array([ 0.17870918,  0.36915858,  0.01166125,  1.11556024, -0.15402533]), kurtosis=array([-1.96806303, -0.60934586, -1.12416146,  0.3914634 , -1.37859539]))"
      ]
     },
     "execution_count": 21,
     "metadata": {},
     "output_type": "execute_result"
    }
   ],
   "source": [
    "stats.describe(testcsv1)"
   ]
  },
  {
   "cell_type": "markdown",
   "metadata": {},
   "source": [
    "# Learnings"
   ]
  },
  {
   "cell_type": "markdown",
   "metadata": {},
   "source": [
    "## Installation\n",
    "I used Anaconda installation therefore it was fairly simple. Most of the desired applications and libraries already came with the Anaconda Installation."
   ]
  },
  {
   "cell_type": "markdown",
   "metadata": {},
   "source": [
    "## Tutorials\n",
    "\n",
    "Step 3 in the Plan of Attack, gave a very good quick overview of Python. \n",
    "\n",
    "From Python for Data Science for Dummies (2nd Edition) Chapter 5 & 6, I was able to pretty good insights into Jupyter Notebooks and reading data. A quick search into shorcuts for Jupyter Notebooks was also very helpful.\n",
    "\n",
    "I found Whirlwind Tour of Python book to be the most helpful and insightful. It was very effective giving you the right information and insight into learning Python while still being concise. It was a very easy read."
   ]
  },
  {
   "cell_type": "markdown",
   "metadata": {},
   "source": [
    "## Lessons Learned\n",
    "\n",
    "Majority of the errors, I faced were regarding incompatibilty due to different data types and structures for different variables. It was important to understand diferences between Lists, Tuple and Dictionary. It was also good to explore how datatypes compatiblity could be a factor for running operations and functions. \n",
    "\n",
    "Keyboard shortcuts for Jupyter was very beneficial.\n",
    "\n",
    "Previous learning from R programming from previous classes helped.  The fundamental aspects of data analytics is similar.\n"
   ]
  }
 ],
 "metadata": {
  "kernelspec": {
   "display_name": "Python 3",
   "language": "python",
   "name": "python3"
  },
  "language_info": {
   "codemirror_mode": {
    "name": "ipython",
    "version": 3
   },
   "file_extension": ".py",
   "mimetype": "text/x-python",
   "name": "python",
   "nbconvert_exporter": "python",
   "pygments_lexer": "ipython3",
   "version": "3.7.6"
  }
 },
 "nbformat": 4,
 "nbformat_minor": 4
}
